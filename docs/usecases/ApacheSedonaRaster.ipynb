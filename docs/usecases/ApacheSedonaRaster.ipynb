{
 "cells": [
  {
   "cell_type": "markdown",
   "id": "fbefc0bd-731b-43e4-b271-6cb4cba5c256",
   "metadata": {},
   "source": [
    "```\n",
    "Licensed to the Apache Software Foundation (ASF) under one\n",
    "or more contributor license agreements.  See the NOTICE file\n",
    "distributed with this work for additional information\n",
    "regarding copyright ownership.  The ASF licenses this file\n",
    "to you under the Apache License, Version 2.0 (the\n",
    "\"License\"); you may not use this file except in compliance\n",
    "with the License.  You may obtain a copy of the License at\n",
    "  http://www.apache.org/licenses/LICENSE-2.0\n",
    "Unless required by applicable law or agreed to in writing,\n",
    "software distributed under the License is distributed on an\n",
    "\"AS IS\" BASIS, WITHOUT WARRANTIES OR CONDITIONS OF ANY\n",
    "KIND, either express or implied.  See the License for the\n",
    "specific language governing permissions and limitations\n",
    "under the License.\n",
    "```"
   ]
  },
  {
   "cell_type": "markdown",
   "id": "b443d3d3-1667-4770-b57c-7f79a3ea5d42",
   "metadata": {},
   "source": [
    "## Import Sedona"
   ]
  },
  {
   "cell_type": "code",
   "execution_count": 1,
   "id": "328d0b74-1efd-468c-bc96-a469965df60b",
   "metadata": {
    "tags": []
   },
   "outputs": [],
   "source": [
    "from sedona.spark import *\n",
    "from IPython.display import display, HTML"
   ]
  },
  {
   "cell_type": "markdown",
   "id": "f28c8117-069c-431c-ac58-6ff258b1196d",
   "metadata": {},
   "source": [
    "## Create a Sedona Context object.\n",
    "If you already have a spark instance available, simply use ```SedonaContext.create(spark)```."
   ]
  },
  {
   "cell_type": "code",
   "execution_count": 2,
   "id": "e3495923-7fb4-4a6e-b62e-a4eeb9c2b306",
   "metadata": {
    "tags": []
   },
   "outputs": [
    {
     "name": "stdout",
     "output_type": "stream",
     "text": [
      ":: loading settings :: url = jar:file:/opt/spark/jars/ivy-2.5.1.jar!/org/apache/ivy/core/settings/ivysettings.xml\n"
     ]
    },
    {
     "name": "stderr",
     "output_type": "stream",
     "text": [
      "Ivy Default Cache set to: /root/.ivy2/cache\n",
      "The jars for the packages stored in: /root/.ivy2/jars\n",
      "uk.co.gresearch.spark#spark-extension_2.12 added as a dependency\n",
      ":: resolving dependencies :: org.apache.spark#spark-submit-parent-d2019c7a-1755-472f-a457-e06fec742f8b;1.0\n",
      "\tconfs: [default]\n",
      "\tfound uk.co.gresearch.spark#spark-extension_2.12;2.11.0-3.4 in central\n",
      "\tfound com.github.scopt#scopt_2.12;4.1.0 in central\n",
      ":: resolution report :: resolve 68ms :: artifacts dl 3ms\n",
      "\t:: modules in use:\n",
      "\tcom.github.scopt#scopt_2.12;4.1.0 from central in [default]\n",
      "\tuk.co.gresearch.spark#spark-extension_2.12;2.11.0-3.4 from central in [default]\n",
      "\t---------------------------------------------------------------------\n",
      "\t|                  |            modules            ||   artifacts   |\n",
      "\t|       conf       | number| search|dwnlded|evicted|| number|dwnlded|\n",
      "\t---------------------------------------------------------------------\n",
      "\t|      default     |   2   |   0   |   0   |   0   ||   2   |   0   |\n",
      "\t---------------------------------------------------------------------\n",
      ":: retrieving :: org.apache.spark#spark-submit-parent-d2019c7a-1755-472f-a457-e06fec742f8b\n",
      "\tconfs: [default]\n",
      "\t0 artifacts copied, 2 already retrieved (0kB/3ms)\n",
      "25/03/19 07:22:49 WARN NativeCodeLoader: Unable to load native-hadoop library for your platform... using builtin-java classes where applicable\n",
      "Setting default log level to \"WARN\".\n",
      "To adjust logging level use sc.setLogLevel(newLevel). For SparkR, use setLogLevel(newLevel).\n",
      "25/03/19 07:22:53 WARN UDTRegistration: Cannot register UDT for org.geotools.coverage.grid.GridCoverage2D, which is already registered.\n",
      "25/03/19 07:22:53 WARN SimpleFunctionRegistry: The function rs_union_aggr replaced a previously registered function.\n",
      "25/03/19 07:22:53 WARN UDTRegistration: Cannot register UDT for org.locationtech.jts.geom.Geometry, which is already registered.\n",
      "25/03/19 07:22:53 WARN UDTRegistration: Cannot register UDT for org.apache.sedona.common.geometryObjects.Geography, which is already registered.\n",
      "25/03/19 07:22:53 WARN UDTRegistration: Cannot register UDT for org.locationtech.jts.index.SpatialIndex, which is already registered.\n",
      "25/03/19 07:22:53 WARN SimpleFunctionRegistry: The function st_envelope_aggr replaced a previously registered function.\n",
      "25/03/19 07:22:53 WARN SimpleFunctionRegistry: The function st_intersection_aggr replaced a previously registered function.\n",
      "25/03/19 07:22:53 WARN SimpleFunctionRegistry: The function st_union_aggr replaced a previously registered function.\n"
     ]
    }
   ],
   "source": [
    "config = (\n",
    "    SedonaContext.builder()\n",
    "    .config(\n",
    "        \"spark.jars.packages\",\n",
    "        \"uk.co.gresearch.spark:spark-extension_2.12:2.11.0-3.4\",\n",
    "    )\n",
    "    .master(\"spark://localhost:7077\")\n",
    "    .getOrCreate()\n",
    ")\n",
    "\n",
    "sedona = SedonaContext.create(config)"
   ]
  },
  {
   "cell_type": "markdown",
   "id": "91d4e6ae-eeb6-46ca-89fd-8f82e6056924",
   "metadata": {},
   "source": [
    "## Read GeoTiff files"
   ]
  },
  {
   "cell_type": "code",
   "execution_count": 3,
   "id": "58c05200-27f7-46ce-b2c5-4c1dc058c96e",
   "metadata": {},
   "outputs": [
    {
     "name": "stdout",
     "output_type": "stream",
     "text": [
      "+--------------------+-------------------+------+--------------------+\n",
      "|                path|   modificationTime|length|             content|\n",
      "+--------------------+-------------------+------+--------------------+\n",
      "|file:/opt/workspa...|2025-02-25 23:08:24|209199|[4D 4D 00 2A 00 0...|\n",
      "+--------------------+-------------------+------+--------------------+\n",
      "\n"
     ]
    }
   ],
   "source": [
    "geotiff_df = sedona.read.format(\"binaryFile\").load(\"data/raster/test5.tiff\")\n",
    "geotiff_df.show(2)\n",
    "geotiff_df.createOrReplaceTempView(\"binary_raster\")"
   ]
  },
  {
   "cell_type": "markdown",
   "id": "db66242c-d0b3-4348-b2ef-4344d266cb4c",
   "metadata": {},
   "source": [
    "## Create raster columns from the read binary data"
   ]
  },
  {
   "cell_type": "code",
   "execution_count": 4,
   "id": "36eb9e36-cbcb-472a-96c6-79d49305cf66",
   "metadata": {
    "tags": []
   },
   "outputs": [
    {
     "name": "stderr",
     "output_type": "stream",
     "text": [
      "[Stage 4:>                                                          (0 + 1) / 1]"
     ]
    },
    {
     "name": "stdout",
     "output_type": "stream",
     "text": [
      "+--------------------+\n",
      "|              raster|\n",
      "+--------------------+\n",
      "|GridCoverage2D[\"g...|\n",
      "+--------------------+\n",
      "\n"
     ]
    },
    {
     "name": "stderr",
     "output_type": "stream",
     "text": [
      "                                                                                "
     ]
    }
   ],
   "source": [
    "raster_df = sedona.sql(\"SELECT RS_FromGeoTiff(content) as raster from binary_raster\")\n",
    "raster_df.show(2)\n",
    "raster_df.createOrReplaceTempView(\"raster_table\")"
   ]
  },
  {
   "cell_type": "markdown",
   "id": "3932eb9e-aeb6-4abe-a986-f26a11eb1fe3",
   "metadata": {},
   "source": [
    "## Operate on rasters using Sedona\n",
    "Once a raster column is created, you're now free to use the entire catalog of Sedona's [raster functions](https://sedona.apache.org/1.5.0/api/sql/Raster-operators/). The following part of notebook contains a few examples."
   ]
  },
  {
   "cell_type": "markdown",
   "id": "1b47699e-8ce4-4859-ace9-d12ea1f4d0b9",
   "metadata": {},
   "source": [
    "### Access raster metadata\n",
    "[RS_MetaData](https://sedona.apache.org/1.5.0/api/sql/Raster-operators/#rs_metadata) can be used to view the loaded raster's metadata (orientation and georeferencing attributes)."
   ]
  },
  {
   "cell_type": "code",
   "execution_count": 5,
   "id": "6d635263-9e8b-4f74-9b91-d360d196b966",
   "metadata": {
    "tags": []
   },
   "outputs": [
    {
     "data": {
      "text/plain": [
       "Row(upperLeftX=-180.0, upperLeftY=90.0, gridWidth=1440, gridHeight=720, scaleX=0.25, scaleY=-0.25, skewX=0.0, skewY=0.0, srid=4326, numSampleDimensions=1, tileWidth=256, tileHeight=256)"
      ]
     },
     "execution_count": 5,
     "metadata": {},
     "output_type": "execute_result"
    }
   ],
   "source": [
    "raster_metadata = sedona.sql(\"SELECT RS_MetaData(raster) as metadata from raster_table\")\n",
    "metadata = raster_metadata.first()[0]\n",
    "raster_srid = metadata[8]\n",
    "metadata"
   ]
  },
  {
   "cell_type": "markdown",
   "id": "713bc8db-3143-4a79-abb5-08ad81f9393a",
   "metadata": {},
   "source": [
    "### Visualize rasters\n",
    "Sedona 1.5.0 provides [multiple ways to be able to visualize rasters](https://sedona.apache.org/1.5.0/api/sql/Raster-visualizer/). Throughout this notebook, [RS_AsImage](https://sedona.apache.org/1.5.0/api/sql/Raster-visualizer/#rs_asimage) will be used to visualize any changes to the rasters."
   ]
  },
  {
   "cell_type": "code",
   "execution_count": 6,
   "id": "7fad137f-331c-4c2f-905d-dbc42cff11b6",
   "metadata": {
    "tags": []
   },
   "outputs": [
    {
     "data": {
      "text/html": [
       "<table border=\"1\" class=\"dataframe\">\n",
       "  <thead>\n",
       "    <tr style=\"text-align: right;\">\n",
       "      <th></th>\n",
       "      <th>rs_asimage(raster, 500)</th>\n",
       "    </tr>\n",
       "  </thead>\n",
       "  <tbody>\n",
       "    <tr>\n",
       "      <th>0</th>\n",
       "      <td><img src=\"data:image/png;base64,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\" width=\"500\" /></td>\n",
       "    </tr>\n",
       "  </tbody>\n",
       "</table>"
      ],
      "text/plain": [
       "<IPython.core.display.HTML object>"
      ]
     },
     "metadata": {},
     "output_type": "display_data"
    }
   ],
   "source": [
    "SedonaUtils.display_image(raster_df.selectExpr(\"RS_AsImage(raster, 500)\"))"
   ]
  },
  {
   "cell_type": "markdown",
   "id": "cef34e54-ac3c-48f3-836c-5a5385b79481",
   "metadata": {},
   "source": [
    "### Join based on raster predicates\n",
    "Sedona 1.5.0 now supports join predicates between raster and geometry columns.\n",
    "\n",
    "Below is a simple example that carves a small rectangle from the existing raster and attempts to join it with the original raster"
   ]
  },
  {
   "cell_type": "code",
   "execution_count": 7,
   "id": "6442349c-be2e-4609-a16e-b856745ddf46",
   "metadata": {},
   "outputs": [],
   "source": [
    "(width, height) = sedona.sql(\n",
    "    \"SELECT RS_Width(raster) as width, RS_Height(raster) as height from raster_table\"\n",
    ").first()\n",
    "(p1X, p1Y) = sedona.sql(\n",
    "    f\"SELECT RS_RasterToWorldCoordX(raster, {width / 2}, {height / 2}) \\\n",
    "                  as pX, RS_RasterToWorldCoordY(raster, {width / 2}, {height / 2}) as pY from raster_table\"\n",
    ").first()\n",
    "(p2X, p2Y) = sedona.sql(\n",
    "    f\"SELECT RS_RasterToWorldCoordX(raster, {(width / 2) + 2}, {height / 2}) \\\n",
    "                  as pX, RS_RasterToWorldCoordY(raster, {(width / 2) + 2}, {height / 2}) as pY from raster_table\"\n",
    ").first()\n",
    "(p3X, p3Y) = sedona.sql(\n",
    "    f\"SELECT RS_RasterToWorldCoordX(raster, {width / 2}, {(height / 2) + 2}) \\\n",
    "                  as pX, RS_RasterToWorldCoordY(raster, {width / 2}, {(height / 2) + 2}) as pY from raster_table\"\n",
    ").first()\n",
    "(p4X, p4Y) = sedona.sql(\n",
    "    f\"SELECT RS_RasterToWorldCoordX(raster, {(width / 2) + 2}, {(height / 2) + 2}) \\\n",
    "                  as pX, RS_RasterToWorldCoordY(raster, {(width / 2) + 2}, {(height / 2) + 2}) as pY from raster_table\"\n",
    ").first()"
   ]
  },
  {
   "cell_type": "code",
   "execution_count": 8,
   "id": "ed399ee8-42b7-488b-8141-320c2bf6d9c3",
   "metadata": {
    "tags": []
   },
   "outputs": [],
   "source": [
    "geom_wkt = f\"SRID={int(raster_srid)};POLYGON (({p1X} {p1Y}, {p2X} {p2Y}, {p3X} {p3Y}, {p4X} {p4Y}, {p1X} {p1Y}))\""
   ]
  },
  {
   "cell_type": "code",
   "execution_count": 9,
   "id": "cb8aa25f-4706-4ee7-9994-3da474c3eb2c",
   "metadata": {
    "tags": []
   },
   "outputs": [],
   "source": [
    "geom_df = sedona.sql(f\"SELECT ST_GeomFromEWKT('{geom_wkt}') as geom\")\n",
    "geom_df.createOrReplaceTempView(\"geom_table\")"
   ]
  },
  {
   "cell_type": "code",
   "execution_count": 10,
   "id": "6461c14c-d479-4c64-8f8f-8c21903dedf5",
   "metadata": {
    "tags": []
   },
   "outputs": [
    {
     "name": "stdout",
     "output_type": "stream",
     "text": [
      "+--------------------+\n",
      "|                geom|\n",
      "+--------------------+\n",
      "|POLYGON ((-0.25 0...|\n",
      "+--------------------+\n",
      "\n"
     ]
    }
   ],
   "source": [
    "joined_df = sedona.sql(\n",
    "    \"SELECT g.geom from raster_table r, geom_table g where RS_Intersects(r.raster, g.geom)\"\n",
    ")\n",
    "joined_df.show()"
   ]
  },
  {
   "cell_type": "markdown",
   "id": "9be5e7db-17e5-4bab-b7a3-8ee278374355",
   "metadata": {},
   "source": [
    "### Interoperability between raster and vector data types\n",
    "Sedona allows for conversions from raster to geometry and vice-versa. "
   ]
  },
  {
   "cell_type": "markdown",
   "id": "cc0bfd1c-7117-444a-8189-881da19846c9",
   "metadata": {},
   "source": [
    "### Convert a raster to vector using convex hull\n",
    "A convex hull geometry can be created out of a raster using [RS_ConvexHull](https://sedona.apache.org/1.5.0/api/sql/Raster-operators/#rs_convexhull)\n",
    "\n",
    "Additionally, if a raster has noDataValue specified, and you wish to tighten the convexhull to exclude noDataValue boundaries, [RS_MinConvexHull](https://sedona.apache.org/1.5.0/api/sql/Raster-operators/#rs_minconvexhull) can be used."
   ]
  },
  {
   "cell_type": "code",
   "execution_count": 11,
   "id": "22b9dd16-f720-4fa4-acb9-b80c34702a93",
   "metadata": {
    "tags": []
   },
   "outputs": [
    {
     "name": "stdout",
     "output_type": "stream",
     "text": [
      "+-------------------------------------------------------+\n",
      "|convex_hull                                            |\n",
      "+-------------------------------------------------------+\n",
      "|POLYGON ((-180 90, 180 90, 180 -90, -180 -90, -180 90))|\n",
      "+-------------------------------------------------------+\n",
      "\n",
      "+-------------------------------------------------------+\n",
      "|min_convex_hull                                        |\n",
      "+-------------------------------------------------------+\n",
      "|POLYGON ((-180 90, 180 90, 180 -90, -180 -90, -180 90))|\n",
      "+-------------------------------------------------------+\n",
      "\n"
     ]
    }
   ],
   "source": [
    "raster_convex_hull = sedona.sql(\n",
    "    \"SELECT RS_ConvexHull(raster) as convex_hull from raster_table\"\n",
    ")\n",
    "raster_min_convex_hull = sedona.sql(\n",
    "    \"SELECT RS_MinConvexHull(raster) as min_convex_hull from raster_table\"\n",
    ")\n",
    "raster_convex_hull.show(truncate=False)\n",
    "raster_min_convex_hull.show(truncate=False)"
   ]
  },
  {
   "cell_type": "markdown",
   "id": "8ca7e862-45c9-4559-a2e1-4e044d6b5c84",
   "metadata": {},
   "source": [
    "### Convert a geometry to raster (Rasterize a geometry)\n",
    "A geometry can be converted to a raster using [RS_AsRaster](https://sedona.apache.org/1.5.0/api/sql/Raster-writer/#rs_asraster)"
   ]
  },
  {
   "cell_type": "code",
   "execution_count": 18,
   "id": "8bc32fc6-d418-4e7c-8631-57e2c623f14c",
   "metadata": {
    "tags": []
   },
   "outputs": [
    {
     "name": "stdout",
     "output_type": "stream",
     "text": [
      "+--------------------+\n",
      "|     rasterized_geom|\n",
      "+--------------------+\n",
      "|GridCoverage2D[\"g...|\n",
      "+--------------------+\n",
      "\n"
     ]
    }
   ],
   "source": [
    "rasterized_geom_df = sedona.sql(\n",
    "    \"SELECT RS_AsRaster(ST_GeomFromWKT('POLYGON((-50 -50, 20 60, -10 100, 100 20, -50 -50))'), r.raster, 'b', false, 230) as rasterized_geom from raster_table r\"\n",
    ")\n",
    "rasterized_geom_df.show()"
   ]
  },
  {
   "cell_type": "code",
   "execution_count": 19,
   "id": "a7eecae9-3763-405f-a22e-c7d77ff703b0",
   "metadata": {},
   "outputs": [
    {
     "data": {
      "text/html": [
       "<table border=\"1\" class=\"dataframe\">\n",
       "  <thead>\n",
       "    <tr style=\"text-align: right;\">\n",
       "      <th></th>\n",
       "      <th>rasterized_geom</th>\n",
       "    </tr>\n",
       "  </thead>\n",
       "  <tbody>\n",
       "    <tr>\n",
       "      <th>0</th>\n",
       "      <td><img src=\"data:image/png;base64,iVBORw0KGgoAAAANSUhEUgAAAPoAAADpCAAAAAAoxXXUAAAErUlEQVR4Xu3PWVYjSRAEQO5/UM4xj4EGZNqVSyyFfUqV4e5vb5O9f/Of9n6mH2/83/ZDjj/w9NPtBxv/t/2Q45n+t/0g3H6k8U4/9PbjjHf4+9/2Q3D4B7/pyt0f/KYpZ3/yq55c/cmvenL1J7/qydVf/KwjN//jdx25+ZsfNuTkb37Yj4t/+GU/Lv7FT9tx8C9+2o6Df/HTbtx7wo+bce4JP27Guaf8uhfXnvLrXlwLP+/ErfL7Ttwqv+/ErWd80IhTz/igD5ee80UfLj3niz5ceoFP2nDoBT7pwp0X+agJZ17koyaceZmvWnDkZb7qwZVX+KwFR17hsxYceY3vGnDiVT5swIlX+bA+F97g0+rcd4tva3PdHT6vzG33+L4ul93nharc9RCPlOSoB3mmIjc9zEPlOOgJnqrGPc/wVi2ueZLnCnHK0zxYh0te4MkinPESj5bgiBd5tgI3vMzD6TlggKeTs/4Qj+dm+0GeT8zqwwxIy+IzmJGUtacwJCVLz2JOQlaexqB0LDyRUclYdy7TUrHsZMYlYtXpDEzDogsYmYU9lzA0BUsuYmwGdlzG4HAWXMjoYNZby/RQllvL9Eh2W84CYSy2gRWCWGsPW4Sw1CbWiGCnXeyxn402sspm1tnKMnvZZjPrbGSV7Sy0jUUCWGkTa8Sw1RaWCGKtDawQx2bLWSCQ1RYzPpTl1jI9mPUWMjqcBZcxOAM7rmFqDrZcwtAkrLmAkXnYdDoDE7HqZMalYtm5TEvGuhMZlY6FpzEoIzvPYUpOtp7CkKzsPc6EvGw+zIDErD7I87nZfoS3s7P/AE/nZvsR3k7N8kM8npndB3k+L5uP8n5aFh9mQFLWnsGMlCw9hSEZ2XkOUxKy8izmpGPhaQxKxrozmZWLbWcyKxXLTmVYIladzbw0LDqdgVnYcz4Tk7DmCmamYMklDM3AjosYG86CyxgczX7rmBzMeiuZHcpySxkeyW5rmR7IaosZH8Zi69kgiLV2sEMMW+1ghwh22sMWAay0iz12s88+NtnNPvvYZDPrbGSVrSyzl202sspm1tnHJttZaBd77GejTawRwU5bWCKEpXawQwxbrWeDKPZazgJxbLaY8YGstpbpoSy3ktmxbLeOyeEsuIzB4Sy4irnxbLiGqRnYcQlDc7DlAkYmYc35TEzDorOZl4dNJzMuEatOZVgutp3IqGSsO49J2dh3GoPysfEkxiRk5TlMycjOM5iRlLXHmZCVvceZkJW9R3k/MauP8Xpmdh/h7eSsP8DTyVn/dV7Ozv6v8m4BTniNVytww0s8WoIjXuHNIpzxPC9W4Y6nebAOlzzJc4U45SkeK8Uxz/BWMc55nJeqcc/DPFSOgx7lnXpc9BivlOSoh3ikJlc9wBNFOesuD5TlsHt8X5jTbvN1ZW67ycelOe4W39bmuht8Wp37rvFdfS68wmcduPEiH7XgyEt804Qzz/miC3ee8UEbDoWfN+LUU37dimNP+HErjv3FT7tx7zc/bMfBX/ysIzd/8quO3Pw/P2rJ0e8H2X1puV+0ddjhLvfvzg47/GS5//V22OE/0/29v8MO/1rur4dw2OEfy/3pII66++3tP9hsBa/8EUivAAAAAElFTkSuQmCC\" width=\"250\" /></td>\n",
       "    </tr>\n",
       "  </tbody>\n",
       "</table>"
      ],
      "text/plain": [
       "<IPython.core.display.HTML object>"
      ]
     },
     "metadata": {},
     "output_type": "display_data"
    }
   ],
   "source": [
    "SedonaUtils.display_image(\n",
    "    rasterized_geom_df.selectExpr(\"RS_AsImage(rasterized_geom, 250) as rasterized_geom\")\n",
    ")"
   ]
  },
  {
   "cell_type": "markdown",
   "id": "df954a81-5004-40f7-b80e-795f8569757c",
   "metadata": {},
   "source": [
    "### Perform Map Algebra operations\n",
    "Sedona provides two ways to perform [Map Algebra](https://sedona.apache.org/1.5.0/api/sql/Raster-map-algebra/) on rasters:\n",
    "1. Using RS_MapAlgebra (preferred for simpler algebraic functions)\n",
    "2. Using RS_BandAsArray and array based map algebra functions such as RS_Add, RS_Multiply (Useful for complex algebriac functions involving mutating each grid value differently.)\n",
    "\n",
    "The following example illustrates how RS_MapAlgebra can be used. \n",
    "This example uses jiffle script to invert the colors of the above illustrated rasterized geometry."
   ]
  },
  {
   "cell_type": "code",
   "execution_count": 20,
   "id": "53abef31-b1aa-42ef-8eb0-f1d9227e3893",
   "metadata": {
    "tags": []
   },
   "outputs": [],
   "source": [
    "raster_white_bg = rasterized_geom_df.selectExpr(\n",
    "    \"RS_MapAlgebra(rasterized_geom, NULL, 'out[0] = rast[0] == 0 ? 230 : 0;') as raster\"\n",
    ")"
   ]
  },
  {
   "cell_type": "code",
   "execution_count": 21,
   "id": "75f06a1b-1ab6-478b-a50e-b621a10d6d8b",
   "metadata": {
    "tags": []
   },
   "outputs": [
    {
     "data": {
      "text/html": [
       "<table border=\"1\" class=\"dataframe\">\n",
       "  <thead>\n",
       "    <tr style=\"text-align: right;\">\n",
       "      <th></th>\n",
       "      <th>resampled_raster</th>\n",
       "    </tr>\n",
       "  </thead>\n",
       "  <tbody>\n",
       "    <tr>\n",
       "      <th>0</th>\n",
       "      <td><img src=\"data:image/png;base64,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\" width=\"250\" /></td>\n",
       "    </tr>\n",
       "  </tbody>\n",
       "</table>"
      ],
      "text/plain": [
       "<IPython.core.display.HTML object>"
      ]
     },
     "metadata": {},
     "output_type": "display_data"
    }
   ],
   "source": [
    "SedonaUtils.display_image(\n",
    "    raster_white_bg.selectExpr(\"RS_AsImage(raster, 250) as resampled_raster\")\n",
    ")"
   ]
  },
  {
   "cell_type": "markdown",
   "id": "fde725ec-2941-4b6e-9b52-5fd35cea6c01",
   "metadata": {},
   "source": [
    "### Resample a raster.\n",
    "Sedona 1.5.0 supports resampling a raster to different height/width or scale. It also supports changing the pivot of the raster.\n",
    "\n",
    "Refer to [RS_Resample](https://sedona.apache.org/1.5.0/api/sql/Raster-operators/#rs_resample) documentation for more details.\n",
    "\n",
    "This simple example changes the resolution of the loaded raster to 1000*1000"
   ]
  },
  {
   "cell_type": "code",
   "execution_count": 22,
   "id": "c8fdb8c7-52d5-49fa-83f2-44a9438bd509",
   "metadata": {
    "tags": []
   },
   "outputs": [],
   "source": [
    "resampled_raster_df = sedona.sql(\n",
    "    \"SELECT RS_Resample(raster, 1000, 1000, false, 'NearestNeighbor') as resampled_raster from raster_table\"\n",
    ")"
   ]
  },
  {
   "cell_type": "code",
   "execution_count": 23,
   "id": "b14820dc-ed04-41cd-9220-73a5179f52df",
   "metadata": {
    "tags": []
   },
   "outputs": [
    {
     "data": {
      "text/html": [
       "<table border=\"1\" class=\"dataframe\">\n",
       "  <thead>\n",
       "    <tr style=\"text-align: right;\">\n",
       "      <th></th>\n",
       "      <th>resampled_raster</th>\n",
       "    </tr>\n",
       "  </thead>\n",
       "  <tbody>\n",
       "    <tr>\n",
       "      <th>0</th>\n",
       "      <td><img src=\"data:image/png;base64,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\" width=\"500\" /></td>\n",
       "    </tr>\n",
       "  </tbody>\n",
       "</table>"
      ],
      "text/plain": [
       "<IPython.core.display.HTML object>"
      ]
     },
     "metadata": {},
     "output_type": "display_data"
    }
   ],
   "source": [
    "SedonaUtils.display_image(\n",
    "    resampled_raster_df.selectExpr(\n",
    "        \"RS_AsImage(resampled_raster, 500) as resampled_raster\"\n",
    "    )\n",
    ")"
   ]
  },
  {
   "cell_type": "code",
   "execution_count": 24,
   "id": "bee36339-d0c1-469d-9354-980a23f24401",
   "metadata": {
    "tags": []
   },
   "outputs": [
    {
     "name": "stdout",
     "output_type": "stream",
     "text": [
      "+--------------------------------------------------------------------+\n",
      "|resampled_raster_metadata                                           |\n",
      "+--------------------------------------------------------------------+\n",
      "|{-180.0, 90.0, 1000, 1000, 0.36, -0.18, 0.0, 0.0, 4326, 1, 500, 500}|\n",
      "+--------------------------------------------------------------------+\n",
      "\n"
     ]
    }
   ],
   "source": [
    "resampled_raster_df.selectExpr(\n",
    "    \"RS_MetaData(resampled_raster) as resampled_raster_metadata\"\n",
    ").show(truncate=False)"
   ]
  },
  {
   "cell_type": "code",
   "execution_count": 25,
   "id": "2b0aa64e-4a02-4c85-9ba5-6459d2002f8a",
   "metadata": {
    "tags": []
   },
   "outputs": [],
   "source": [
    "# Load another raster for some more examples\n",
    "elevation_raster_df = sedona.read.format(\"binaryFile\").load(\"data/raster/test1.tiff\")\n",
    "elevation_raster_df.createOrReplaceTempView(\"elevation_raster_binary\")"
   ]
  },
  {
   "cell_type": "code",
   "execution_count": 26,
   "id": "623123ac-98bc-4d51-828d-9d874cc6f471",
   "metadata": {
    "tags": []
   },
   "outputs": [],
   "source": [
    "elevation_raster_df = sedona.sql(\n",
    "    \"SELECT RS_FromGeoTiff(content) as raster from elevation_raster_binary\"\n",
    ")\n",
    "elevation_raster_df.createOrReplaceTempView(\"elevation_raster\")"
   ]
  },
  {
   "cell_type": "markdown",
   "id": "2a6afdf3-e774-432f-96a3-96a4ca8249c7",
   "metadata": {},
   "source": [
    "### Access individual values from rasters\n",
    "Sedona provides [RS_Value](https://sedona.apache.org/1.5.0/api/sql/Raster-operators/#rs_value) and [RS_Values](https://sedona.apache.org/1.5.0/api/sql/Raster-operators/#rs_values) that allow accessing raster values at given geometrical point(s).\n",
    "\n",
    "The following example extracts raster values at specific geographical points."
   ]
  },
  {
   "cell_type": "code",
   "execution_count": 27,
   "id": "ffe589e1-50b7-431a-ba84-b2c297b77f65",
   "metadata": {},
   "outputs": [
    {
     "name": "stdout",
     "output_type": "stream",
     "text": [
      "+--------------+\n",
      "| raster_values|\n",
      "+--------------+\n",
      "|[115.0, 148.0]|\n",
      "+--------------+\n",
      "\n"
     ]
    }
   ],
   "source": [
    "point_wkt_1 = \"SRID=3857;POINT (-13095600.809482181 4021100.7487925636)\"\n",
    "point_wkt_2 = \"SRID=3857;POINT (-13095500.809482181 4021000.7487925636)\"\n",
    "point_df = sedona.sql(\n",
    "    \"SELECT ST_GeomFromEWKT('{}') as point_1, ST_GeomFromEWKT('{}') as point_2\".format(\n",
    "        point_wkt_1, point_wkt_2\n",
    "    )\n",
    ")\n",
    "point_df.createOrReplaceTempView(\"point_table\")\n",
    "test_df = sedona.sql(\n",
    "    \"SELECT RS_Values(raster, Array(point_1, point_2)) as raster_values from elevation_raster, point_table\"\n",
    ")\n",
    "test_df.show()"
   ]
  },
  {
   "cell_type": "markdown",
   "id": "8643ed69-9128-49a9-80e7-f9115694695f",
   "metadata": {},
   "source": [
    "### Extract individual bands from rasters\n",
    "[RS_BandAsArray](https://sedona.apache.org/1.5.0/api/sql/Raster-operators/#rs_bandasarray) can be used to extract entire band values from a given raster"
   ]
  },
  {
   "cell_type": "code",
   "execution_count": 28,
   "id": "48f56157-ab07-456e-83fe-75d23f5bb28e",
   "metadata": {},
   "outputs": [
    {
     "name": "stdout",
     "output_type": "stream",
     "text": [
      "[123.0, 107.0, 156.0, 173.0, 115.0, 82.0, 165.0, 222.0, 115.0, 82.0, 0.0, 0.0, 0.0, 0.0, 0.0, 0.0, 0.0, 0.0, 0.0, 0.0]\n"
     ]
    }
   ],
   "source": [
    "band = elevation_raster_df.selectExpr(\"RS_BandAsArray(raster, 1)\").first()[0]\n",
    "print(\n",
    "    band[500:520],\n",
    ")  # Print a part of a band as an array horizontally"
   ]
  },
  {
   "cell_type": "markdown",
   "id": "e586b0e5-935a-47fa-8ebf-b63ddd9a48a8",
   "metadata": {},
   "source": [
    "### Visualize Raster MBRs"
   ]
  },
  {
   "cell_type": "code",
   "execution_count": 29,
   "id": "2a2c7086-9588-48a7-a710-c10b8c5e4875",
   "metadata": {},
   "outputs": [],
   "source": [
    "# Convert raster to its convex hull and transform it to EPSG:4326 to be able to visualize\n",
    "raster_mbr_df = elevation_raster_df.selectExpr(\n",
    "    \"ST_Transform(RS_ConvexHull(raster), 'EPSG:3857', 'EPSG:4326') as raster_mbr\"\n",
    ")"
   ]
  },
  {
   "cell_type": "code",
   "execution_count": 30,
   "id": "6f39b3db-a0b1-4842-a5ca-b5a5850f3ea7",
   "metadata": {
    "tags": []
   },
   "outputs": [
    {
     "name": "stdout",
     "output_type": "stream",
     "text": [
      "User Guide: https://docs.kepler.gl/docs/keplergl-jupyter\n"
     ]
    },
    {
     "data": {
      "application/vnd.jupyter.widget-view+json": {
       "model_id": "40e21039219c43fd860cb2a0dba17475",
       "version_major": 2,
       "version_minor": 0
      },
      "text/plain": [
       "KeplerGl(data={'RasterMBR': {'index': [0], 'columns': ['geometry'], 'data': [['POLYGON ((-117.6417329630247508…"
      ]
     },
     "execution_count": 30,
     "metadata": {},
     "output_type": "execute_result"
    }
   ],
   "source": [
    "sedona_kepler_map_elevation = SedonaKepler.create_map(\n",
    "    df=raster_mbr_df, name=\"RasterMBR\"\n",
    ")\n",
    "sedona_kepler_map_elevation"
   ]
  },
  {
   "cell_type": "code",
   "execution_count": null,
   "id": "0a684add-0608-41cb-afc6-230d15b3a97b",
   "metadata": {},
   "outputs": [],
   "source": []
  }
 ],
 "metadata": {
  "kernelspec": {
   "display_name": "Python 3 (ipykernel)",
   "language": "python",
   "name": "python3"
  },
  "language_info": {
   "codemirror_mode": {
    "name": "ipython",
    "version": 3
   },
   "file_extension": ".py",
   "mimetype": "text/x-python",
   "name": "python",
   "nbconvert_exporter": "python",
   "pygments_lexer": "ipython3",
   "version": "3.10.12"
  }
 },
 "nbformat": 4,
 "nbformat_minor": 5
}
